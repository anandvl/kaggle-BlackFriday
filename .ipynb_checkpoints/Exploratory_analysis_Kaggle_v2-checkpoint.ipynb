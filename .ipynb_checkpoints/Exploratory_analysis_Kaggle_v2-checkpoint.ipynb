{
  "cells": [
    {
      "metadata": {
        "_cell_guid": "79c7e3d0-c299-4dcb-8224-4455121ee9b0",
        "collapsed": true,
        "_uuid": "d629ff2d2480ee46fbb7e2d37f6b5fab8052498a",
        "trusted": false
      },
      "cell_type": "markdown",
      "source": "#### This is my first Kaggle kernel and I did some very basic exploratory analysis. I have reviewed some of the other kernels and I don't beleive any of the conclusions here are any different than those presented by other.  \n\nImport all relevant libraries"
    },
    {
      "metadata": {
        "trusted": true,
        "_uuid": "39bc9b2e128d2e00912babc22be9199535e0fb13"
      },
      "cell_type": "code",
      "source": "import numpy as Numpy\nimport pandas as Pandas\nimport matplotlib.pyplot as Plt\nimport seaborn as Sns\nimport os as Os",
      "execution_count": null,
      "outputs": []
    },
    {
      "metadata": {
        "_uuid": "0a9b8c6b9a9514bb98d20becfa3313a364096aa5"
      },
      "cell_type": "markdown",
      "source": "Provide generic input"
    },
    {
      "metadata": {
        "trusted": true,
        "_uuid": "65663d3be9d145b6ecb78621791272944c7379b2"
      },
      "cell_type": "code",
      "source": "inpDir = '../input/'\noutDir = ''\nfileName = 'BlackFriday.csv'\nfileTitle = fileName.split('.')[0]",
      "execution_count": null,
      "outputs": []
    },
    {
      "metadata": {
        "_uuid": "c168cf751fc1433dd553e197f70329b821cb298b"
      },
      "cell_type": "markdown",
      "source": "Read in the dataset and gather some basic info about the dataframe (column names, types, missing data etc.)"
    },
    {
      "metadata": {
        "trusted": true,
        "_uuid": "217be3aa0d3db5a8d4b56c03003b45d10c5d5601"
      },
      "cell_type": "code",
      "source": "bf = Pandas.read_csv(Os.path.join(inpDir + fileName), index_col=False)\nbf.info()",
      "execution_count": null,
      "outputs": []
    },
    {
      "metadata": {
        "_uuid": "56e0b7f01dff5562e7b7a96b28c542cf440b4fd1"
      },
      "cell_type": "markdown",
      "source": "Fields 'Product_Category_2' and 'Product_Category_3' have missing values. \n\nThe following option makes sure that you can see 'all' the columns when you apply '.describe()' to your data frame"
    },
    {
      "metadata": {
        "trusted": true,
        "_uuid": "0ea3605bde19a7545c685859a3c95e1bf9c820d7"
      },
      "cell_type": "code",
      "source": "Pandas.set_option('display.expand_frame_repr', False)\nbf.describe()",
      "execution_count": null,
      "outputs": []
    },
    {
      "metadata": {
        "_uuid": "1e55c38eabfd6b76ce75f6e7e36d3916fc449207"
      },
      "cell_type": "markdown",
      "source": "Looks like all numeric fields are all integer values, even if some of them are stored as float.\n\nDetermine the number of levels for all columns.  "
    },
    {
      "metadata": {
        "trusted": true,
        "_uuid": "c585c1aa269cf15179975db83bec17bc0eed2a14"
      },
      "cell_type": "code",
      "source": "print('Number of unique values (levels) for each column')\nfor cols in list(bf):\n    print(f'{bf[cols].nunique()}: {cols}')",
      "execution_count": null,
      "outputs": []
    },
    {
      "metadata": {
        "_uuid": "314486d07ee660aaf7f64f3d70cb1094b6528848"
      },
      "cell_type": "markdown",
      "source": "Different analysis could be performed based on the end-goal.  In this analysis, I am going to assume that the end-goal is to determine the factors that affect 'revenue', which is the total of the 'Purchase' amounts. Here, I am going to refer to the different fields/columns as 'categories' and the different values (levels) within this categories as 'factors'.  With this goal in mind, we will take a preliminary look at the effects of the factors in each of the remaining 11 categories on the revenue.  \n\nBut, before we do that we need to fill in the missing values in 'Product_Category_2' and 'Product_Category_3'. Reviewing the list of existing values for these, I chose to use the value of 1 for the missing value."
    },
    {
      "metadata": {
        "trusted": true,
        "_uuid": "68184b748dcbfa50632965cf11726d838716dd3a"
      },
      "cell_type": "code",
      "source": "for cols in ['Product_Category_2', 'Product_Category_3']:\n    print(f'{cols}: {sorted(bf[cols].unique())}')\n    bf[cols].fillna(value=1, inplace=True)\n    bf[cols] = bf[cols].apply(lambda x: int(x))\n    print(f'{cols}: {sorted(bf[cols].unique())}')",
      "execution_count": null,
      "outputs": []
    },
    {
      "metadata": {
        "_uuid": "2ce110e7aa34c9ac43c5e9a2100cc1e2f7af8e85"
      },
      "cell_type": "markdown",
      "source": "Do a pie chart of the sum of the purchases for each of the categories.  For now, I am going to ignore User_ID and Product_ID as there are too many factors in these categories."
    },
    {
      "metadata": {
        "trusted": true,
        "_uuid": "a0113177bd562a6053d44f6dd8b3dafc73565dae"
      },
      "cell_type": "code",
      "source": "fig1 = Plt.figure(1,figsize=(10,7.5))\nfig1.clf()\nk = 0\nfor cols in list(bf)[2:len(list(bf))-1]:    \n    k = k + 1\n    ax = fig1.add_subplot(3,3,k)\n    \n    bf_summ = bf[[cols,'Purchase']].groupby([cols])['Purchase'].agg(['sum','count']).reset_index().rename(columns={'sum':'totRev','count': 'totPurch'}).sort_values(['totRev'], ascending=[False])\n    ax.pie(bf_summ['totRev'], labels = bf_summ[cols], autopct='%1.1f%%', startangle=90)\n    ax.axis('equal')\n    ax.set_title(cols)\n\nfig1.subplots_adjust(hspace=0.5, wspace = 0.5)\nfig1.savefig(Os.path.join(outDir + fileTitle + '_1.png'), dpi=300)",
      "execution_count": null,
      "outputs": []
    },
    {
      "metadata": {
        "_uuid": "409d437db014340f0a046023a57ecd5aa5402888"
      },
      "cell_type": "markdown",
      "source": "Similar data has been presented by other kernels for this dataset and hence, the conclusions are similar too.  Next, I take a cummulative some of the percentage contributions of each of the factors within each category and identify the (top) factors within each category that contribute most to the revenue."
    },
    {
      "metadata": {
        "trusted": true,
        "_uuid": "90173fe28b05d36da77573cd00ed4eb1d6b595f2"
      },
      "cell_type": "code",
      "source": "fig2 = Plt.figure(2,figsize=(7.5,10.0))\nfig2.clf()\nj = 0\n\nfig3 = Plt.figure(3,figsize=(7.5,26.0))\nfig2.clf()\nk = 0\n\ntotRevenue = sum(bf.Purchase)\nfor cols in list(bf)[0:len(list(bf))-1]:\n    # The following two statements could probably be combined and simplified using lambda functions in the '.agg' method.  Will do later.\n    bf_summ = bf[[cols,'Purchase']].groupby([cols])['Purchase'].agg(['sum']).reset_index().rename(columns={'sum':'percRev'})\n\n    bf_summ['percRev'] = 100.0*bf_summ['percRev']/totRevenue\n    bf_summ = bf_summ.sort_values(['percRev'], ascending=[False]).copy()\n\n    noFactors = bf_summ.shape[0]\n    bf_summ['cumPercFactor'] = 100.0*(bf_summ.reset_index().index + 1)/noFactors\n    \n    bf_summ['cumPercRev'] = round(Numpy.cumsum(bf_summ['percRev']),2)\n    bf_summ['percRev'] = round(bf_summ['percRev'],2)\n    \n    if (cols in ['User_ID', 'Product_ID']):\n        j = j + 1\n        ax = fig2.add_subplot(2,1,j)\n        ax.plot(bf_summ['cumPercFactor'], bf_summ['cumPercRev'])\n        ax.set_xlabel('Cummulative percentage of factors')\n        ax.set_ylabel('Cummulative percentage of revenue')\n        ax.set_title(cols)\n        print(f'Cummulative Percentage of top {cols} that accounted for 80% of revenue: {round(bf_summ.iloc[max(max(Numpy.where(bf_summ[\"cumPercRev\"] < 80.0)))][\"cumPercFactor\"], 1)}\\n')\n    else:\n        k = k + 1\n        ax = fig3.add_subplot(9,1,k)\n        ax.bar(bf_summ[cols].apply(lambda x: str(x)), bf_summ['cumPercRev'])\n        if (cols=='Age'):\n            ax.set_xticklabels(bf_summ[cols], rotation='vertical', horizontalalignment=\"right\")\n        #ax.set_xlabel('Factors')\n        ax.set_ylabel('Cummulative\\n percentage\\n of revenue')\n        ax.set_title(cols)\n        print(bf_summ.head(10))\n        print('\\n')\n        \nfig2.subplots_adjust(hspace=0.5, wspace = 0.0)\nfig2.savefig(Os.path.join(outDir + fileTitle + '_2.png'), dpi=300)\n\nfig3.subplots_adjust(hspace=0.5, wspace = 0.0)\nfig3.savefig(Os.path.join(outDir + fileTitle + '_3.png'), dpi=300)",
      "execution_count": null,
      "outputs": []
    },
    {
      "metadata": {
        "_uuid": "edf82ad7d29cff49e882272f8939be767928e68c"
      },
      "cell_type": "markdown",
      "source": "The first 2 graphs shows that a larger percentage of revenue comes from a smaller percentage of the factors for both User_ID and Product_ID.  \nFor instance, 80% of the revenue is achieved by the (top) 43% of the users (User_IDs) or 26% of the products (Product_IDs).  So, I could use the data to maybe in the future focus on the purchase patterns of these specific users only and/or on the sale of these specific products only.\n\nSimilarly for some of the other categories, we can conclude\n* Age groups of 18-50 account for roughly 86% of the revenue.  \n* Factors 1, 5, 6, and 8 in Product_Category_1 account for roughly 80% of the revenue.\n* The top ten (out of 21) occupations account for roughly 79% of the revenue\n\nThis is a preliminary analysis and I plan to make some of these plots and data more presentable and provide additional analysis and plots in later versions of this kernel."
    }
  ],
  "metadata": {
    "kernelspec": {
      "display_name": "Python 3",
      "language": "python",
      "name": "python3"
    },
    "language_info": {
      "name": "python",
      "version": "3.6.6",
      "mimetype": "text/x-python",
      "codemirror_mode": {
        "name": "ipython",
        "version": 3
      },
      "pygments_lexer": "ipython3",
      "nbconvert_exporter": "python",
      "file_extension": ".py"
    }
  },
  "nbformat": 4,
  "nbformat_minor": 1
}